{
 "cells": [
  {
   "cell_type": "code",
   "execution_count": 1,
   "id": "dfb0a28d",
   "metadata": {},
   "outputs": [],
   "source": [
    "from pyspark.sql import SparkSession, Window\n",
    "from pyspark.sql.functions import col, when, year, month, day, expr, to_timestamp, concat_ws, lpad, coalesce\n",
    "from pyspark.sql.functions import input_file_name, regexp_extract, unix_timestamp, row_number, lit\n",
    "from pyspark.sql.types import StructType, StructField, StringType, IntegerType\n",
    "from pyspark.sql import functions as F \n",
    "from pyspark.sql.functions import col, when, sum\n",
    "\n",
    "import warnings\n",
    "warnings.filterwarnings(\"ignore\", category=FutureWarning)"
   ]
  },
  {
   "cell_type": "code",
   "execution_count": 2,
   "id": "bc165338",
   "metadata": {},
   "outputs": [
    {
     "name": "stderr",
     "output_type": "stream",
     "text": [
      "WARNING: Using incubator modules: jdk.incubator.vector\n",
      "Using Spark's default log4j profile: org/apache/spark/log4j2-defaults.properties\n",
      "25/07/01 10:05:30 WARN Utils: Your hostname, DESKTOP-EP7NDA3, resolves to a loopback address: 127.0.1.1; using 10.255.255.254 instead (on interface lo)\n",
      "25/07/01 10:05:33 WARN Utils: Set SPARK_LOCAL_IP if you need to bind to another address\n",
      "Using Spark's default log4j profile: org/apache/spark/log4j2-defaults.properties\n",
      "Setting default log level to \"WARN\".\n",
      "To adjust logging level use sc.setLogLevel(newLevel). For SparkR, use setLogLevel(newLevel).\n",
      "25/07/01 10:05:34 WARN NativeCodeLoader: Unable to load native-hadoop library for your platform... using builtin-java classes where applicable\n"
     ]
    }
   ],
   "source": [
    "# Create or get an existing Spark session\n",
    "spark = SparkSession.builder \\\n",
    "    .appName(\"EDA\") \\\n",
    "    .getOrCreate()"
   ]
  },
  {
   "cell_type": "code",
   "execution_count": 37,
   "id": "4ac4743f",
   "metadata": {},
   "outputs": [
    {
     "name": "stdout",
     "output_type": "stream",
     "text": [
      "Number of rows: 48326\n"
     ]
    }
   ],
   "source": [
    "# Path to the folder containing the Parquet files\n",
    "folder_path = \"../sample_data/raw/green/green_tripdata_2025-01.parquet\"\n",
    "\n",
    "# Read all Parquet files in the folder\n",
    "df_green_raw = spark.read.parquet(folder_path)\n",
    "\n",
    "number_rows = df_green_raw.count()\n",
    "print('Number of rows: ' + str(number_rows))"
   ]
  },
  {
   "cell_type": "code",
   "execution_count": 38,
   "id": "078d0add",
   "metadata": {},
   "outputs": [
    {
     "name": "stderr",
     "output_type": "stream",
     "text": [
      "                                                                                \r"
     ]
    },
    {
     "name": "stdout",
     "output_type": "stream",
     "text": [
      "+--------+--------------------+---------------------+------------------+----------+------------+------------+---------------+-------------+-----------+-----+-------+----------+------------+---------+---------------------+------------+------------+---------+--------------------+------------------+\n",
      "|VendorID|lpep_pickup_datetime|lpep_dropoff_datetime|store_and_fwd_flag|RatecodeID|PULocationID|DOLocationID|passenger_count|trip_distance|fare_amount|extra|mta_tax|tip_amount|tolls_amount|ehail_fee|improvement_surcharge|total_amount|payment_type|trip_type|congestion_surcharge|cbd_congestion_fee|\n",
      "+--------+--------------------+---------------------+------------------+----------+------------+------------+---------------+-------------+-----------+-----+-------+----------+------------+---------+---------------------+------------+------------+---------+--------------------+------------------+\n",
      "|       2| 2025-01-01 00:03:01|  2025-01-01 00:17:12|                 N|         1|          75|         235|              1|         5.93|       24.7|  1.0|    0.5|       6.8|         0.0|     NULL|                  1.0|        34.0|           1|        1|                 0.0|               0.0|\n",
      "|       2| 2025-01-01 00:19:59|  2025-01-01 00:25:52|                 N|         1|         166|          75|              1|         1.32|        8.6|  1.0|    0.5|       0.0|         0.0|     NULL|                  1.0|        11.1|           2|        1|                 0.0|               0.0|\n",
      "|       2| 2025-01-01 00:05:29|  2025-01-01 00:07:21|                 N|         5|         171|          73|              1|         0.41|      25.55|  0.0|    0.0|       0.0|         0.0|     NULL|                  1.0|       26.55|           2|        2|                 0.0|               0.0|\n",
      "|       2| 2025-01-01 00:52:24|  2025-01-01 01:07:52|                 N|         1|          74|         223|              1|         4.12|       21.2|  1.0|    0.5|      6.13|        6.94|     NULL|                  1.0|       36.77|           1|        1|                 0.0|               0.0|\n",
      "|       2| 2025-01-01 00:25:05|  2025-01-01 01:01:10|                 N|         1|          66|         158|              1|         4.71|       33.8|  1.0|    0.5|      7.81|         0.0|     NULL|                  1.0|       46.86|           1|        1|                2.75|               0.0|\n",
      "|       2| 2025-01-01 01:03:45|  2025-01-01 01:42:09|                 N|         1|         260|         260|              1|         4.26|       31.0|  1.0|    0.5|       0.0|         0.0|     NULL|                  1.0|        33.5|           2|        1|                 0.0|               0.0|\n",
      "|       2| 2025-01-01 00:28:12|  2025-01-01 00:37:53|                 N|         1|           7|         202|              1|          2.0|       11.4|  1.0|    0.5|      22.0|         0.0|     NULL|                  1.0|        35.9|           1|        1|                 0.0|               0.0|\n",
      "|       2| 2025-01-01 00:25:38|  2025-01-01 00:36:47|                 N|         1|         166|         244|              1|         2.09|       13.5|  1.0|    0.5|       0.0|         0.0|     NULL|                  1.0|        16.0|           2|        1|                 0.0|               0.0|\n",
      "|       2| 2025-01-01 00:52:04|  2025-01-01 00:58:36|                 N|         1|         166|         151|              1|         0.95|        7.9|  1.0|    0.5|      2.08|         0.0|     NULL|                  1.0|       12.48|           1|        1|                 0.0|               0.0|\n",
      "|       2| 2024-12-31 22:42:13|  2024-12-31 22:42:31|                 N|         3|          74|          74|              1|         0.06|       23.0|  1.0|    0.0|       0.0|         0.0|     NULL|                  1.0|        25.0|           2|        1|                 0.0|               0.0|\n",
      "|       2| 2024-12-31 23:01:11|  2024-12-31 23:04:29|                 N|         1|          75|         236|              1|         0.66|        5.8|  1.0|    0.5|      2.76|         0.0|     NULL|                  1.0|       13.81|           1|        1|                2.75|               0.0|\n",
      "|       2| 2025-01-01 00:18:31|  2025-01-01 00:18:46|                 N|         5|          92|          92|              1|          0.0|       35.0|  0.0|    0.0|       2.0|         0.0|     NULL|                  1.0|        38.0|           1|        2|                 0.0|               0.0|\n",
      "|       1| 2025-01-01 00:13:44|  2025-01-01 00:27:42|                 N|         1|          42|         159|              1|          0.0|       18.5|  0.0|    1.5|       0.0|         0.0|     NULL|                  1.0|        20.0|           1|        1|                 0.0|               0.0|\n",
      "|       1| 2025-01-01 00:54:41|  2025-01-01 01:03:43|                 N|         1|          41|         168|              0|          1.7|       11.4|  1.0|    1.5|       0.0|         0.0|     NULL|                  1.0|        13.9|           2|        1|                 0.0|               0.0|\n",
      "|       2| 2025-01-01 00:36:38|  2025-01-01 00:47:19|                 N|         1|          75|         262|              1|         1.93|       12.1|  1.0|    0.5|       1.1|         0.0|     NULL|                  1.0|       18.45|           1|        1|                2.75|               0.0|\n",
      "|       2| 2025-01-01 00:31:59|  2025-01-01 00:32:02|                 N|         5|          66|          66|              0|         0.03|       76.0|  0.0|    0.0|      15.4|         0.0|     NULL|                  1.0|        92.4|           1|        2|                 0.0|               0.0|\n",
      "|       2| 2025-01-01 00:01:40|  2025-01-01 00:18:21|                 N|         1|          74|         262|              1|         2.91|       17.7|  1.0|    0.5|      4.59|         0.0|     NULL|                  1.0|       27.54|           1|        1|                2.75|               0.0|\n",
      "|       2| 2025-01-01 00:24:44|  2025-01-01 00:33:57|                 N|         1|         236|         263|              1|         1.62|       11.4|  1.0|    0.5|      3.33|         0.0|     NULL|                  1.0|       19.98|           1|        1|                2.75|               0.0|\n",
      "|       2| 2025-01-01 00:20:31|  2025-01-01 00:20:34|                 N|         5|         197|         197|              1|          0.0|       13.0|  0.0|    0.0|       1.0|         0.0|     NULL|                  1.0|        15.0|           1|        2|                 0.0|               0.0|\n",
      "|       2| 2025-01-01 00:17:17|  2025-01-01 00:25:29|                 N|         1|          42|         168|              1|         1.66|       10.7|  1.0|    0.5|       0.0|         0.0|     NULL|                  1.0|        13.2|           2|        1|                 0.0|               0.0|\n",
      "+--------+--------------------+---------------------+------------------+----------+------------+------------+---------------+-------------+-----------+-----+-------+----------+------------+---------+---------------------+------------+------------+---------+--------------------+------------------+\n",
      "only showing top 20 rows\n"
     ]
    }
   ],
   "source": [
    "df_green_raw.show()"
   ]
  },
  {
   "cell_type": "code",
   "execution_count": null,
   "id": "51cdeb48",
   "metadata": {},
   "outputs": [],
   "source": []
  },
  {
   "cell_type": "code",
   "execution_count": null,
   "id": "d2c7d144",
   "metadata": {},
   "outputs": [],
   "source": []
  }
 ],
 "metadata": {
  "kernelspec": {
   "display_name": "venv",
   "language": "python",
   "name": "python3"
  },
  "language_info": {
   "codemirror_mode": {
    "name": "ipython",
    "version": 3
   },
   "file_extension": ".py",
   "mimetype": "text/x-python",
   "name": "python",
   "nbconvert_exporter": "python",
   "pygments_lexer": "ipython3",
   "version": "3.12.3"
  }
 },
 "nbformat": 4,
 "nbformat_minor": 5
}
