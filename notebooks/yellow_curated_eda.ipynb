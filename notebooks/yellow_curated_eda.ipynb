{
 "cells": [
  {
   "cell_type": "code",
   "execution_count": 5,
   "metadata": {},
   "outputs": [],
   "source": [
    "from pyspark.sql import SparkSession, Window\n",
    "from pyspark.sql.functions import col, when, year, month, day, expr, to_timestamp, concat_ws, lpad, coalesce\n",
    "from pyspark.sql.functions import input_file_name, regexp_extract, unix_timestamp, row_number, lit\n",
    "from pyspark.sql.types import StructType, StructField, StringType, IntegerType\n",
    "from pyspark.sql import functions as F "
   ]
  },
  {
   "cell_type": "code",
   "execution_count": 6,
   "metadata": {},
   "outputs": [],
   "source": [
    "spark = SparkSession.builder \\\n",
    "    .appName(\"EDA\") \\\n",
    "    .getOrCreate()"
   ]
  },
  {
   "cell_type": "code",
   "execution_count": 7,
   "metadata": {},
   "outputs": [
    {
     "name": "stdout",
     "output_type": "stream",
     "text": [
      "Number of rows: 3278682\n"
     ]
    }
   ],
   "source": [
    "# Path to the folder containing the Parquet files\n",
    "path = \"../sample_data/curated/yellow\"\n",
    "\n",
    "# Read all Parquet files in the folder\n",
    "df_yellow_intg = spark.read.parquet(path).where(\"file_year = 2025 and file_month = 1\")\n",
    "\n",
    "number_rows = df_yellow_intg.count()\n",
    "print('Number of rows: ' + str(number_rows))"
   ]
  },
  {
   "cell_type": "code",
   "execution_count": 8,
   "metadata": {},
   "outputs": [
    {
     "name": "stdout",
     "output_type": "stream",
     "text": [
      "+---------+-------------------+-----------+------------+----------+-------------------+------------+-------------+-----------+--------------+----------+--------------------+---------------+--------------+----------+--------------------+---------------+-----------+--------------+------------+-----------------+------------------+---------------+-------------+-----------+-----+-------+----------+------------+---------------------+--------------------+-----------+---------+------------------+------------------+-------------------+------------------+-----------------+--------------------+-------------------+------------------------+---------+----------+\n",
      "|vendor_id|    pickup_datetime|pickup_year|pickup_month|pickup_day|   dropoff_datetime|dropoff_year|dropoff_month|dropoff_day|pu_location_id|pu_borough|             pu_zone|pu_service_zone|do_location_id|do_borough|             do_zone|do_service_zone|ratecode_id| ratecode_desc|payment_type|payment_type_desc|store_and_fwd_flag|passenger_count|trip_distance|fare_amount|extra|mta_tax|tip_amount|tolls_amount|improvement_surcharge|congestion_surcharge|airport_fee|ehail_fee|      total_amount| trip_duration_min|   miles_per_minute|    miles_per_hour|trip_outlier_flag|fare_amount_per_mile|fare_amount_per_min|fare_amount_outlier_flag|file_year|file_month|\n",
      "+---------+-------------------+-----------+------------+----------+-------------------+------------+-------------+-----------+--------------+----------+--------------------+---------------+--------------+----------+--------------------+---------------+-----------+--------------+------------+-----------------+------------------+---------------+-------------+-----------+-----+-------+----------+------------+---------------------+--------------------+-----------+---------+------------------+------------------+-------------------+------------------+-----------------+--------------------+-------------------+------------------------+---------+----------+\n",
      "|        1|2025-01-01 00:01:06|       2025|           1|         1|2025-01-01 00:09:41|        2025|            1|          1|           162| Manhattan|        Midtown East|    Yellow Zone|           162| Manhattan|        Midtown East|    Yellow Zone|          1| Standard rate|           1|      Credit card|                 N|              1|          0.7|        9.3|  3.5|    0.5|       0.0|         0.0|                  1.0|                 2.5|        0.0|     NULL|              16.8| 8.583333333333334|0.08155339805825242| 4.893203883495145|            false|  13.285714285714288|  1.083495145631068|                   false|     2025|         1|\n",
      "|        2|2025-01-29 23:23:09|       2025|           1|        29|2025-01-30 00:02:04|        2025|            1|         30|           132|    Queens|         JFK Airport|       Airports|            43| Manhattan|        Central Park|    Yellow Zone|          2|           JFK|           1|      Credit card|                 N|              2|        16.59|       70.0|  0.0|    0.5|     14.95|         0.0|                  1.0|                 2.5|       1.75|     NULL|              90.7|38.916666666666664|0.42629550321199144|25.577730192719486|            false|   4.219409282700422| 1.7987152034261242|                   false|     2025|         1|\n",
      "|        1|2025-01-01 00:01:44|       2025|           1|         1|2025-01-01 00:50:35|        2025|            1|          1|           132|    Queens|         JFK Airport|       Airports|           239| Manhattan|Upper West Side S...|    Yellow Zone|          2|           JFK|           1|      Credit card|                 N|              1|         19.3|       70.0| 4.25|    0.5|      18.9|         0.0|                  1.0|                 2.5|       1.75|     NULL|              98.9|             48.85|0.39508700102354144|23.705220061412486|            false|   3.626943005181347| 1.4329580348004094|                   false|     2025|         1|\n",
      "|        2|2025-01-29 23:23:24|       2025|           1|        29|2025-01-29 23:38:48|        2025|            1|         29|            53|    Queens|       College Point|      Boro Zone|           141| Manhattan|     Lenox Hill West|    Yellow Zone|          1| Standard rate|           1|      Credit card|                 N|              1|         10.0|       35.2|  1.0|    0.5|      9.43|        6.94|                  1.0|                 2.5|        0.0|     NULL|             56.57|              15.4| 0.6493506493506493| 38.96103896103896|            false|  3.5200000000000005|  2.285714285714286|                   false|     2025|         1|\n",
      "|        1|2025-01-01 00:02:29|       2025|           1|         1|2025-01-01 00:38:23|        2025|            1|          1|           132|    Queens|         JFK Airport|       Airports|           151| Manhattan|    Manhattan Valley|    Yellow Zone|          2|           JFK|           1|      Credit card|                 N|              3|         20.1|       70.0| 1.75|    0.5|      16.0|        6.94|                  1.0|                 0.0|       1.75|     NULL|             97.94|              35.9| 0.5598885793871867|33.593314763231206|            false|  3.4825870646766166| 1.9498607242339834|                   false|     2025|         1|\n",
      "|        2|2025-01-29 23:23:34|       2025|           1|        29|2025-01-29 23:38:52|        2025|            1|         29|            74| Manhattan|   East Harlem North|      Boro Zone|           152| Manhattan|      Manhattanville|      Boro Zone|         99|       Unknown|           0|   Flex Fare trip|                 N|              1|         2.68|      15.26|  0.0|    0.5|       0.0|         0.0|                  1.0|                NULL|       NULL|     NULL|16.759999999999998|              15.3|0.17516339869281047| 10.50980392156863|            false|  5.6940298507462686| 0.9973856209150326|                   false|     2025|         1|\n",
      "|        1|2025-01-01 00:02:42|       2025|           1|         1|2025-01-01 00:14:13|        2025|            1|          1|           113| Manhattan|Greenwich Village...|    Yellow Zone|           233| Manhattan| UN/Turtle Bay South|    Yellow Zone|          1| Standard rate|           1|      Credit card|                 N|              1|          2.2|       12.1|  3.5|    0.5|       4.3|         0.0|                  1.0|                 2.5|        0.0|     NULL|23.900000000000002|11.516666666666667|  0.191027496382055|11.461649782923299|            false|   5.499999999999999| 1.0506512301013025|                   false|     2025|         1|\n",
      "|        2|2025-01-29 23:23:36|       2025|           1|        29|2025-01-29 23:43:42|        2025|            1|         29|           138|    Queens|   LaGuardia Airport|       Airports|           229| Manhattan|Sutton Place/Turt...|    Yellow Zone|          1| Standard rate|           1|      Credit card|                 N|              2|         8.77|       36.6|  6.0|    0.5|     11.71|       11.19|                  1.0|                 2.5|       1.75|     NULL|             71.25|              20.1|0.43631840796019894|26.179104477611936|            false|   4.173318129988598| 1.8208955223880596|                   false|     2025|         1|\n",
      "|        1|2025-01-01 00:02:42|       2025|           1|         1|2025-01-01 00:28:02|        2025|            1|          1|           132|    Queens|         JFK Airport|       Airports|            80|  Brooklyn|   East Williamsburg|      Boro Zone|          1| Standard rate|           1|      Credit card|                 N|              1|         15.0|       56.9| 2.75|    0.5|     12.25|         0.0|                  1.0|                 0.0|       1.75|     NULL|             75.15|25.333333333333332| 0.5921052631578948|35.526315789473685|            false|  3.7933333333333334| 2.2460526315789475|                   false|     2025|         1|\n",
      "|        2|2025-01-29 23:23:43|       2025|           1|        29|2025-01-29 23:46:47|        2025|            1|         29|            79| Manhattan|        East Village|    Yellow Zone|           230| Manhattan|Times Sq/Theatre ...|    Yellow Zone|         99|       Unknown|           0|   Flex Fare trip|                 N|              1|         3.36|       17.1|  0.0|    0.5|       0.0|         0.0|                  1.0|                NULL|       NULL|     NULL|              18.6|23.066666666666666|0.14566473988439305| 8.739884393063583|            false|   5.089285714285715| 0.7413294797687862|                   false|     2025|         1|\n",
      "|        1|2025-01-01 00:02:49|       2025|           1|         1|2025-01-01 00:14:48|        2025|            1|          1|           239| Manhattan|Upper West Side S...|    Yellow Zone|           263| Manhattan|      Yorkville West|    Yellow Zone|          1| Standard rate|           1|      Credit card|                 N|              1|          2.2|       12.1|  3.5|    0.5|       3.4|         0.0|                  1.0|                 2.5|        0.0|     NULL|              23.0|11.983333333333333|0.18358831710709322|11.015299026425593|            false|   5.499999999999999| 1.0097357440890125|                   false|     2025|         1|\n",
      "|        2|2025-01-29 23:23:44|       2025|           1|        29|2025-01-29 23:32:22|        2025|            1|         29|            68| Manhattan|        East Chelsea|    Yellow Zone|           230| Manhattan|Times Sq/Theatre ...|    Yellow Zone|         99|       Unknown|           0|   Flex Fare trip|                 N|              1|         1.31|       8.87|  0.0|    0.5|       0.0|         0.0|                  1.0|                NULL|       NULL|     NULL|             10.37| 8.633333333333333|0.15173745173745176| 9.104247104247106|            false|   6.770992366412213| 1.0274131274131273|                   false|     2025|         1|\n",
      "|        1|2025-01-01 00:03:17|       2025|           1|         1|2025-01-01 00:11:30|        2025|            1|          1|           249| Manhattan|        West Village|    Yellow Zone|           113| Manhattan|Greenwich Village...|    Yellow Zone|          1| Standard rate|           1|      Credit card|                 N|              1|          1.1|        9.3|  3.5|    0.5|      2.85|         0.0|                  1.0|                 2.5|        0.0|     NULL|19.650000000000002| 8.216666666666667|0.13387423935091278| 8.032454361054766|            false|   8.454545454545455|   1.13184584178499|                   false|     2025|         1|\n",
      "|        2|2025-01-29 23:23:49|       2025|           1|        29|2025-01-29 23:25:16|        2025|            1|         29|            68| Manhattan|        East Chelsea|    Yellow Zone|           246| Manhattan|West Chelsea/Huds...|    Yellow Zone|          1| Standard rate|           1|      Credit card|                 N|              1|         0.26|        3.7|  1.0|    0.5|       0.0|         0.0|                  1.0|                 2.5|        0.0|     NULL|               8.7|              1.45|0.17931034482758623|10.758620689655174|            false|  14.230769230769232| 2.5517241379310347|                   false|     2025|         1|\n",
      "|        1|2025-01-01 00:04:33|       2025|           1|         1|2025-01-01 00:23:50|        2025|            1|          1|           161| Manhattan|      Midtown Center|    Yellow Zone|           142| Manhattan| Lincoln Square East|    Yellow Zone|          1| Standard rate|           1|      Credit card|                 N|              1|          2.1|       15.6|  3.5|    0.5|      5.15|         0.0|                  1.0|                 2.5|        0.0|     NULL|             28.25|19.283333333333335|0.10890233362143474| 6.534140017286084|            false|   7.428571428571428| 0.8089887640449437|                   false|     2025|         1|\n",
      "|        2|2025-01-29 23:23:53|       2025|           1|        29|2025-01-29 23:39:31|        2025|            1|         29|           161| Manhattan|      Midtown Center|    Yellow Zone|            79| Manhattan|        East Village|    Yellow Zone|         99|       Unknown|           0|   Flex Fare trip|                 N|              1|         2.87|      15.48|  0.0|    0.5|       0.0|         0.0|                  1.0|                NULL|       NULL|     NULL|             16.98|15.633333333333333|0.18358208955223881|11.014925373134329|            false|   5.393728222996516| 0.9901918976545843|                   false|     2025|         1|\n",
      "|        1|2025-01-01 00:04:45|       2025|           1|         1|2025-01-01 00:42:48|        2025|            1|          1|           236| Manhattan|Upper East Side N...|    Yellow Zone|           113| Manhattan|Greenwich Village...|    Yellow Zone|         99|       Unknown|           0|   Flex Fare trip|                 N|              1|          4.0|      23.79|  0.0|    0.5|       0.0|         0.0|                  1.0|                NULL|       NULL|     NULL|             25.29|             38.05|0.10512483574244416|  6.30749014454665|            false|              5.9475| 0.6252299605781866|                   false|     2025|         1|\n",
      "|        2|2025-01-29 23:23:59|       2025|           1|        29|2025-01-29 23:30:17|        2025|            1|         29|           230| Manhattan|Times Sq/Theatre ...|    Yellow Zone|           186| Manhattan|Penn Station/Madi...|    Yellow Zone|          1| Standard rate|           1|      Credit card|                 N|              1|         1.06|        7.9|  1.0|    0.5|      2.73|         0.0|                  1.0|                 2.5|        0.0|     NULL|             15.63|               6.3|0.16825396825396827|10.095238095238097|            false|   7.452830188679245|  1.253968253968254|                   false|     2025|         1|\n",
      "|        1|2025-01-01 00:05:41|       2025|           1|         1|2025-01-01 00:12:23|        2025|            1|          1|           239| Manhattan|Upper West Side S...|    Yellow Zone|           143| Manhattan| Lincoln Square West|    Yellow Zone|          1| Standard rate|           1|      Credit card|                 N|              1|          0.8|        7.2|  3.5|    0.5|      2.45|         0.0|                  1.0|                 2.5|        0.0|     NULL|             17.15|               6.7|0.11940298507462686| 7.164179104477612|            false|                 9.0| 1.0746268656716418|                   false|     2025|         1|\n",
      "|        2|2025-01-29 23:24:01|       2025|           1|        29|2025-01-29 23:44:30|        2025|            1|         29|           230| Manhattan|Times Sq/Theatre ...|    Yellow Zone|           112|  Brooklyn|          Greenpoint|      Boro Zone|          1| Standard rate|           1|      Credit card|                 N|              2|         4.66|       24.0|  1.0|    0.5|      5.95|         0.0|                  1.0|                 2.5|        0.0|     NULL|             34.95|20.483333333333334| 0.2275020341741253|13.650122050447518|            false|   5.150214592274678| 1.1716842961757525|                   false|     2025|         1|\n",
      "+---------+-------------------+-----------+------------+----------+-------------------+------------+-------------+-----------+--------------+----------+--------------------+---------------+--------------+----------+--------------------+---------------+-----------+--------------+------------+-----------------+------------------+---------------+-------------+-----------+-----+-------+----------+------------+---------------------+--------------------+-----------+---------+------------------+------------------+-------------------+------------------+-----------------+--------------------+-------------------+------------------------+---------+----------+\n",
      "only showing top 20 rows\n",
      "\n"
     ]
    }
   ],
   "source": [
    "df_yellow_intg.show()"
   ]
  },
  {
   "cell_type": "code",
   "execution_count": null,
   "metadata": {},
   "outputs": [],
   "source": []
  },
  {
   "cell_type": "code",
   "execution_count": null,
   "metadata": {},
   "outputs": [],
   "source": []
  }
 ],
 "metadata": {
  "kernelspec": {
   "display_name": "Python 3",
   "language": "python",
   "name": "python3"
  },
  "language_info": {
   "codemirror_mode": {
    "name": "ipython",
    "version": 3
   },
   "file_extension": ".py",
   "mimetype": "text/x-python",
   "name": "python",
   "nbconvert_exporter": "python",
   "pygments_lexer": "ipython3",
   "version": "3.11.4"
  }
 },
 "nbformat": 4,
 "nbformat_minor": 2
}
