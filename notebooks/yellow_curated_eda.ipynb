{
 "cells": [
  {
   "cell_type": "code",
   "execution_count": 1,
   "metadata": {},
   "outputs": [],
   "source": [
    "from pyspark.sql import SparkSession, Window\n",
    "from pyspark.sql.functions import col, when, year, month, day, expr, to_timestamp, concat_ws, lpad, coalesce\n",
    "from pyspark.sql.functions import input_file_name, regexp_extract, unix_timestamp, row_number, lit\n",
    "from pyspark.sql.types import StructType, StructField, StringType, IntegerType\n",
    "from pyspark.sql import functions as F "
   ]
  },
  {
   "cell_type": "code",
   "execution_count": 2,
   "metadata": {},
   "outputs": [
    {
     "name": "stderr",
     "output_type": "stream",
     "text": [
      "WARNING: Using incubator modules: jdk.incubator.vector\n",
      "Using Spark's default log4j profile: org/apache/spark/log4j2-defaults.properties\n",
      "25/06/24 10:58:30 WARN Utils: Your hostname, DESKTOP-EP7NDA3, resolves to a loopback address: 127.0.1.1; using 10.255.255.254 instead (on interface lo)\n",
      "25/06/24 10:58:30 WARN Utils: Set SPARK_LOCAL_IP if you need to bind to another address\n",
      "Using Spark's default log4j profile: org/apache/spark/log4j2-defaults.properties\n",
      "Setting default log level to \"WARN\".\n",
      "To adjust logging level use sc.setLogLevel(newLevel). For SparkR, use setLogLevel(newLevel).\n",
      "25/06/24 10:58:30 WARN NativeCodeLoader: Unable to load native-hadoop library for your platform... using builtin-java classes where applicable\n"
     ]
    }
   ],
   "source": [
    "spark = SparkSession.builder \\\n",
    "    .appName(\"EDA\") \\\n",
    "    .getOrCreate()"
   ]
  },
  {
   "cell_type": "code",
   "execution_count": 3,
   "metadata": {},
   "outputs": [
    {
     "name": "stdout",
     "output_type": "stream",
     "text": [
      "Number of rows: 2964624\n"
     ]
    }
   ],
   "source": [
    "path_raw = \"../sample_data/raw/yellow/yellow_tripdata_2024-01.parquet\"\n",
    "\n",
    "# Read all Parquet files in the folder\n",
    "df_yellow_raw= spark.read.parquet(path_raw)\n",
    "\n",
    "number_rows = df_yellow_raw.count()\n",
    "print('Number of rows: ' + str(number_rows))"
   ]
  },
  {
   "cell_type": "code",
   "execution_count": 4,
   "metadata": {},
   "outputs": [
    {
     "name": "stdout",
     "output_type": "stream",
     "text": [
      "Number of rows: 2896096\n"
     ]
    }
   ],
   "source": [
    "# Path to the folder containing the Parquet files\n",
    "path = \"../sample_data/curated/yellow\"\n",
    "\n",
    "# Read all Parquet files in the folder\n",
    "df_yellow_intg = spark.read.parquet(path).where('file_year = 2024 and file_month = 01')\n",
    "\n",
    "number_rows = df_yellow_intg.count()\n",
    "print('Number of rows: ' + str(number_rows))"
   ]
  },
  {
   "cell_type": "code",
   "execution_count": 5,
   "metadata": {},
   "outputs": [
    {
     "name": "stderr",
     "output_type": "stream",
     "text": [
      "25/06/24 10:58:43 WARN SparkStringUtils: Truncated the string representation of a plan since it was too large. This behavior can be adjusted by setting 'spark.sql.debug.maxToStringFields'.\n"
     ]
    },
    {
     "name": "stdout",
     "output_type": "stream",
     "text": [
      "+---------+-------------------+-----------+------------+----------+-------------------+------------+-------------+-----------+--------------+----------+--------------------+---------------+--------------+----------+--------------------+---------------+-----------+----------------+------------+-----------------+------------------+---------------+-------------+-----------+-----+-------+----------+------------+---------------------+--------------------+-----------+---------+------------------+------------------+------------------+-------------------+------------------+-----------------+--------------------+-------------------+------------------------+---------+----------+\n",
      "|vendor_id|    pickup_datetime|pickup_year|pickup_month|pickup_day|   dropoff_datetime|dropoff_year|dropoff_month|dropoff_day|pu_location_id|pu_borough|             pu_zone|pu_service_zone|do_location_id|do_borough|             do_zone|do_service_zone|ratecode_id|   ratecode_desc|payment_type|payment_type_desc|store_and_fwd_flag|passenger_count|trip_distance|fare_amount|extra|mta_tax|tip_amount|tolls_amount|improvement_surcharge|congestion_surcharge|airport_fee|ehail_fee|cbd_congestion_fee|      total_amount| trip_duration_min|   miles_per_minute|    miles_per_hour|trip_outlier_flag|fare_amount_per_mile|fare_amount_per_min|fare_amount_outlier_flag|file_year|file_month|\n",
      "+---------+-------------------+-----------+------------+----------+-------------------+------------+-------------+-----------+--------------+----------+--------------------+---------------+--------------+----------+--------------------+---------------+-----------+----------------+------------+-----------------+------------------+---------------+-------------+-----------+-----+-------+----------+------------+---------------------+--------------------+-----------+---------+------------------+------------------+------------------+-------------------+------------------+-----------------+--------------------+-------------------+------------------------+---------+----------+\n",
      "|        1|2024-01-01 00:20:22|       2024|           1|         1|2024-01-01 00:33:36|        2024|            1|          1|           142| Manhattan| Lincoln Square East|    Yellow Zone|           141| Manhattan|     Lenox Hill West|    Yellow Zone|          1|   Standard rate|           1|      Credit card|                 N|              2|          1.7|       13.5|  3.5|    0.5|       3.7|         0.0|                  1.0|                 2.5|        0.0|      0.0|               0.0|              24.7|13.233333333333333|0.12846347607052896| 7.707808564231738|            false|  7.9411764705882355| 1.0201511335012594|                   false|     2024|         1|\n",
      "|        6|2024-01-18 18:01:20|       2024|           1|        18|2024-01-18 19:01:50|        2024|            1|         18|           265|       N/A|      Outside of NYC|            N/A|           222|  Brooklyn|       Starrett City|      Boro Zone|         99|         Unknown|           0|   Flex Fare trip|                 N|              1|        15.55|      41.21|  0.0|    0.5|       0.0|         0.0|                  0.3|                 0.0|        0.0|      0.0|               0.0|             42.01|              60.5|0.25702479338842976|15.421487603305785|            false|    2.65016077170418| 0.6811570247933885|                   false|     2024|         1|\n",
      "|        1|2024-01-01 00:25:46|       2024|           1|         1|2024-01-01 00:38:14|        2024|            1|          1|           237| Manhattan|Upper East Side S...|    Yellow Zone|           163| Manhattan|       Midtown North|    Yellow Zone|          1|   Standard rate|           3|        No charge|                 N|              1|          1.2|       10.7|  3.5|    0.5|       0.0|         0.0|                  1.0|                 2.5|        0.0|      0.0|               0.0|              18.2|12.466666666666667| 0.0962566844919786| 5.775401069518717|            false|   8.916666666666666| 0.8582887700534759|                   false|     2024|         1|\n",
      "|        1|2024-01-01 00:05:57|       2024|           1|         1|2024-01-01 00:23:03|        2024|            1|          1|           249| Manhattan|        West Village|    Yellow Zone|            87| Manhattan|Financial Distric...|    Yellow Zone|          1|   Standard rate|           2|             Cash|                 N|              1|          2.6|       14.9|  3.5|    0.5|       0.0|         0.0|                  1.0|                 2.5|        0.0|      0.0|               0.0|              22.4|              17.1|0.15204678362573099|  9.12280701754386|            false|   5.730769230769231|  0.871345029239766|                   false|     2024|         1|\n",
      "|        1|2024-01-01 00:37:32|       2024|           1|         1|2024-01-01 00:56:33|        2024|            1|          1|           232| Manhattan|Two Bridges/Sewar...|    Yellow Zone|           237| Manhattan|Upper East Side S...|    Yellow Zone|          1|   Standard rate|           1|      Credit card|                 N|              2|          4.6|       23.3|  3.5|    0.5|      7.05|         0.0|                  1.0|                 2.5|        0.0|      0.0|               0.0|             37.85|19.016666666666666|0.24189307624890447|14.513584574934267|            false|   5.065217391304349| 1.2252410166520598|                   false|     2024|         1|\n",
      "|        1|2024-01-01 00:12:36|       2024|           1|         1|2024-01-01 00:17:30|        2024|            1|          1|           236| Manhattan|Upper East Side N...|    Yellow Zone|           238| Manhattan|Upper West Side N...|    Yellow Zone|          1|   Standard rate|           1|      Credit card|                 N|              2|          0.9|        7.2|  3.5|    0.5|       2.4|         0.0|                  1.0|                 2.5|        0.0|      0.0|               0.0|              17.1|               4.9|0.18367346938775508|11.020408163265305|            false|                 8.0| 1.4693877551020407|                   false|     2024|         1|\n",
      "|        1|2024-01-01 00:37:48|       2024|           1|         1|2024-01-01 00:50:47|        2024|            1|          1|           170| Manhattan|         Murray Hill|    Yellow Zone|           141| Manhattan|     Lenox Hill West|    Yellow Zone|          1|   Standard rate|           1|      Credit card|                 N|              2|          1.8|       13.5|  3.5|    0.5|       5.5|         0.0|                  1.0|                 2.5|        0.0|      0.0|               0.0|              26.5|12.983333333333333| 0.1386392811296534| 8.318356867779205|            false|                 7.5| 1.0397946084724006|                   false|     2024|         1|\n",
      "|        1|2024-01-01 00:18:38|       2024|           1|         1|2024-01-01 00:33:50|        2024|            1|          1|            43| Manhattan|        Central Park|    Yellow Zone|           229| Manhattan|Sutton Place/Turt...|    Yellow Zone|          1|   Standard rate|           1|      Credit card|                 N|              1|          1.5|       13.5|  3.5|    0.5|      5.55|         0.0|                  1.0|                 2.5|        0.0|      0.0|               0.0|             26.55|              15.2|0.09868421052631579| 5.921052631578948|            false|                 9.0| 0.8881578947368421|                   false|     2024|         1|\n",
      "|        1|2024-01-01 00:55:06|       2024|           1|         1|2024-01-01 01:01:40|        2024|            1|          1|           142| Manhattan| Lincoln Square East|    Yellow Zone|           163| Manhattan|       Midtown North|    Yellow Zone|          1|   Standard rate|           1|      Credit card|                 N|              1|          0.5|        5.1|  3.5|    0.5|      2.55|         0.0|                  1.0|                 2.5|        0.0|      0.0|               0.0|15.149999999999999| 6.566666666666666|0.07614213197969544| 4.568527918781726|            false|                10.2| 0.7766497461928934|                   false|     2024|         1|\n",
      "|        1|2024-01-01 00:23:47|       2024|           1|         1|2024-01-01 00:44:44|        2024|            1|          1|           142| Manhattan| Lincoln Square East|    Yellow Zone|            68| Manhattan|        East Chelsea|    Yellow Zone|          1|   Standard rate|           1|      Credit card|                 N|              1|          3.2|       21.2|  3.5|    0.5|      5.24|         0.0|                  1.0|                 2.5|        0.0|      0.0|               0.0|             33.94|             20.95|0.15274463007159905| 9.164677804295943|            false|   6.624999999999999| 1.0119331742243436|                   false|     2024|         1|\n",
      "|        1|2024-01-01 00:55:17|       2024|           1|         1|2024-01-01 01:05:34|        2024|            1|          1|           137| Manhattan|            Kips Bay|    Yellow Zone|           145|    Queens|Long Island City/...|      Boro Zone|          1|   Standard rate|           1|      Credit card|                 N|              2|          2.2|       13.5|  3.5|    0.5|      5.05|        6.94|                  1.0|                 2.5|        0.0|      0.0|               0.0|             32.99|10.283333333333333|0.21393841166936792|12.836304700162074|            false|   6.136363636363636|  1.312803889789303|                   false|     2024|         1|\n",
      "|        1|2024-01-01 00:26:59|       2024|           1|         1|2024-01-01 00:34:42|        2024|            1|          1|           142| Manhattan| Lincoln Square East|    Yellow Zone|           239| Manhattan|Upper West Side S...|    Yellow Zone|         99|         Unknown|           0|   Flex Fare trip|                 N|              1|          0.0|       8.08|  0.0|    0.5|       0.0|         0.0|                  1.0|                 0.0|        0.0|      0.0|               0.0|              9.58| 7.716666666666667|                0.0|               0.0|             true|                NULL|  1.047084233261339|                   false|     2024|         1|\n",
      "|        1|2024-01-01 01:03:21|       2024|           1|         1|2024-01-01 01:33:21|        2024|            1|          1|           140| Manhattan|     Lenox Hill East|    Yellow Zone|           243| Manhattan|Washington Height...|      Boro Zone|          1|   Standard rate|           1|      Credit card|                 N|              1|          8.3|       36.6|  3.5|    0.5|       8.3|         0.0|                  1.0|                 2.5|        0.0|      0.0|               0.0|52.400000000000006|              30.0|0.27666666666666667|              16.6|            false|   4.409638554216867|               1.22|                   false|     2024|         1|\n",
      "|        1|2024-01-01 00:29:19|       2024|           1|         1|2024-01-01 00:35:06|        2024|            1|          1|           137| Manhattan|            Kips Bay|    Yellow Zone|            79| Manhattan|        East Village|    Yellow Zone|          1|   Standard rate|           1|      Credit card|                 N|              2|          1.5|        8.6|  3.5|    0.5|       2.7|         0.0|                  1.0|                 2.5|        0.0|      0.0|               0.0|              18.8| 5.783333333333333|0.25936599423631124|15.561959654178674|            false|   5.733333333333333| 1.4870317002881843|                   false|     2024|         1|\n",
      "|        1|2024-01-01 01:11:14|       2024|           1|         1|2024-01-01 01:47:57|        2024|            1|          1|           114| Manhattan|Greenwich Village...|    Yellow Zone|           129|    Queens|     Jackson Heights|      Boro Zone|          1|   Standard rate|           2|             Cash|                 N|              3|          8.4|       40.8|  3.5|    0.5|       0.0|         0.0|                  1.0|                 2.5|        0.0|      0.0|               0.0|              48.3| 36.71666666666667|0.22877893781207445|13.726736268724467|            false|   4.857142857142857| 1.1112119836586472|                   false|     2024|         1|\n",
      "|        1|2024-01-01 00:34:23|       2024|           1|         1|2024-01-01 00:46:04|        2024|            1|          1|           237| Manhattan|Upper East Side S...|    Yellow Zone|           162| Manhattan|        Midtown East|    Yellow Zone|          1|   Standard rate|           1|      Credit card|                 N|              1|          1.5|       12.1|  3.5|    0.5|       3.4|         0.0|                  1.0|                 2.5|        0.0|      0.0|               0.0|              23.0|11.683333333333334|0.12838801711840228| 7.703281027104137|            false|   8.066666666666666|  1.035663338088445|                   false|     2024|         1|\n",
      "|        1|2024-01-01 01:18:20|       2024|           1|         1|2024-01-01 01:22:27|        2024|            1|          1|           211| Manhattan|                SoHo|    Yellow Zone|           264|   Unknown|                 N/A|            N/A|          5| Negotiated fare|           1|      Credit card|                 N|              1|          0.9|       20.0|  0.0|    0.0|       4.0|         0.0|                  1.0|                 0.0|        0.0|      0.0|               0.0|              25.0| 4.116666666666666|0.21862348178137656|13.117408906882593|            false|   22.22222222222222|  4.858299595141701|                   false|     2024|         1|\n",
      "|        1|2024-01-01 00:43:31|       2024|           1|         1|2024-01-01 01:13:15|        2024|            1|          1|           244| Manhattan|Washington Height...|      Boro Zone|            45| Manhattan|           Chinatown|    Yellow Zone|         99|         Unknown|           0|   Flex Fare trip|                 N|              1|          0.0|      47.11|  0.0|    0.5|       0.0|         0.0|                  1.0|                 0.0|        0.0|      0.0|               0.0|             48.61|29.733333333333334|                0.0|               0.0|             true|                NULL| 1.5844170403587443|                   false|     2024|         1|\n",
      "|        1|2024-01-01 01:23:20|       2024|           1|         1|2024-01-01 01:31:42|        2024|            1|          1|           239| Manhattan|Upper West Side S...|    Yellow Zone|            48| Manhattan|        Clinton East|    Yellow Zone|          1|   Standard rate|           1|      Credit card|                 N|              1|          1.2|       10.0|  3.5|    0.5|       2.0|         0.0|                  1.0|                 2.5|        0.0|      0.0|               0.0|              19.5| 8.366666666666667|0.14342629482071712| 8.605577689243027|            false|   8.333333333333334|  1.195219123505976|                   false|     2024|         1|\n",
      "|        1|2024-01-01 00:52:03|       2024|           1|         1|2024-01-01 01:49:51|        2024|            1|          1|           249| Manhattan|        West Village|    Yellow Zone|           166| Manhattan| Morningside Heights|      Boro Zone|          1|   Standard rate|           1|      Credit card|                 N|              1|          6.3|       49.2|  3.5|    0.5|     10.85|         0.0|                  1.0|                 2.5|        0.0|      0.0|               0.0|             67.55|              57.8|0.10899653979238755| 6.539792387543253|            false|    7.80952380952381| 0.8512110726643599|                   false|     2024|         1|\n",
      "+---------+-------------------+-----------+------------+----------+-------------------+------------+-------------+-----------+--------------+----------+--------------------+---------------+--------------+----------+--------------------+---------------+-----------+----------------+------------+-----------------+------------------+---------------+-------------+-----------+-----+-------+----------+------------+---------------------+--------------------+-----------+---------+------------------+------------------+------------------+-------------------+------------------+-----------------+--------------------+-------------------+------------------------+---------+----------+\n",
      "only showing top 20 rows\n"
     ]
    }
   ],
   "source": [
    "df_yellow_intg.show()"
   ]
  },
  {
   "cell_type": "code",
   "execution_count": null,
   "metadata": {},
   "outputs": [],
   "source": []
  }
 ],
 "metadata": {
  "kernelspec": {
   "display_name": "venv",
   "language": "python",
   "name": "python3"
  },
  "language_info": {
   "codemirror_mode": {
    "name": "ipython",
    "version": 3
   },
   "file_extension": ".py",
   "mimetype": "text/x-python",
   "name": "python",
   "nbconvert_exporter": "python",
   "pygments_lexer": "ipython3",
   "version": "3.12.3"
  }
 },
 "nbformat": 4,
 "nbformat_minor": 2
}
