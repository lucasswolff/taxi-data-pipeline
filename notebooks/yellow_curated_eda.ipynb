{
 "cells": [
  {
   "cell_type": "code",
   "execution_count": 2,
   "metadata": {},
   "outputs": [],
   "source": [
    "from pyspark.sql import SparkSession, Window\n",
    "from pyspark.sql.functions import col, when, year, month, day, expr, to_timestamp, concat_ws, lpad, coalesce\n",
    "from pyspark.sql.functions import input_file_name, regexp_extract, unix_timestamp, row_number, lit\n",
    "from pyspark.sql.types import StructType, StructField, StringType, IntegerType\n",
    "from pyspark.sql import functions as F "
   ]
  },
  {
   "cell_type": "code",
   "execution_count": 3,
   "metadata": {},
   "outputs": [],
   "source": [
    "spark = SparkSession.builder \\\n",
    "    .appName(\"EDA\") \\\n",
    "    .getOrCreate()"
   ]
  },
  {
   "cell_type": "code",
   "execution_count": 4,
   "metadata": {},
   "outputs": [
    {
     "name": "stdout",
     "output_type": "stream",
     "text": [
      "Number of rows: 53645\n"
     ]
    }
   ],
   "source": [
    "# Path to the folder containing the Parquet files\n",
    "path = \"../sample_data/curated/green\"\n",
    "\n",
    "# Read all Parquet files in the folder\n",
    "df_yellow_intg = spark.read.parquet(path).where('file_year = 2024 and file_month = 12')\n",
    "\n",
    "number_rows = df_yellow_intg.count()\n",
    "print('Number of rows: ' + str(number_rows))"
   ]
  },
  {
   "cell_type": "code",
   "execution_count": 5,
   "metadata": {},
   "outputs": [
    {
     "name": "stdout",
     "output_type": "stream",
     "text": [
      "+---------+-------------------+-----------+------------+----------+-------------------+------------+-------------+-----------+--------------+----------+--------------------+---------------+--------------+----------+-------------------+---------------+-----------+----------------+------------+-----------------+------------------+---------------+-------------+-----------+-----+-------+----------+------------+---------------------+--------------------+-----------+---------+------------------+------------------+-------------------+------------------+-----------------+--------------------+-------------------+------------------------+---------+----------+\n",
      "|vendor_id|    pickup_datetime|pickup_year|pickup_month|pickup_day|   dropoff_datetime|dropoff_year|dropoff_month|dropoff_day|pu_location_id|pu_borough|             pu_zone|pu_service_zone|do_location_id|do_borough|            do_zone|do_service_zone|ratecode_id|   ratecode_desc|payment_type|payment_type_desc|store_and_fwd_flag|passenger_count|trip_distance|fare_amount|extra|mta_tax|tip_amount|tolls_amount|improvement_surcharge|congestion_surcharge|airport_fee|ehail_fee|      total_amount| trip_duration_min|   miles_per_minute|    miles_per_hour|trip_outlier_flag|fare_amount_per_mile|fare_amount_per_min|fare_amount_outlier_flag|file_year|file_month|\n",
      "+---------+-------------------+-----------+------------+----------+-------------------+------------+-------------+-----------+--------------+----------+--------------------+---------------+--------------+----------+-------------------+---------------+-----------+----------------+------------+-----------------+------------------+---------------+-------------+-----------+-----+-------+----------+------------+---------------------+--------------------+-----------+---------+------------------+------------------+-------------------+------------------+-----------------+--------------------+-------------------+------------------------+---------+----------+\n",
      "|        1|2024-12-01 00:00:53|       2024|          12|         1|2024-12-01 00:17:57|        2024|           12|          1|           181|  Brooklyn|          Park Slope|      Boro Zone|           249| Manhattan|       West Village|    Yellow Zone|          1|   Standard rate|           1|      Credit card|                 N|              2|          3.7|       21.2| 3.75|    1.5|      5.25|         0.0|                  1.0|                2.75|       NULL|     NULL|             35.45|17.066666666666666|        0.216796875|        13.0078125|            false|   5.729729729729729|          1.2421875|                   false|     2024|        12|\n",
      "|        1|2024-12-01 00:31:29|       2024|          12|         1|2024-12-01 00:43:08|        2024|           12|          1|            40|  Brooklyn|     Carroll Gardens|      Boro Zone|            61|  Brooklyn|Crown Heights North|      Boro Zone|          1|   Standard rate|           1|      Credit card|                 N|              1|          2.3|       13.5|  1.0|    1.5|       3.2|         0.0|                  1.0|                 0.0|       NULL|     NULL|              20.2|             11.65|0.19742489270386265| 11.84549356223176|            false|   5.869565217391305| 1.1587982832618025|                   false|     2024|        12|\n",
      "|        1|2024-12-01 02:38:58|       2024|          12|         1|2024-12-01 02:39:22|        2024|           12|          1|           112|  Brooklyn|          Greenpoint|      Boro Zone|           112|  Brooklyn|         Greenpoint|      Boro Zone|          5| Negotiated fare|           1|      Credit card|                 N|              1|          6.3|      107.7|  0.0|    0.0|      21.5|         0.0|                  0.0|                 0.0|       NULL|     NULL|             129.2|               0.4| 15.749999999999998| 944.9999999999999|             true|  17.095238095238095|             269.25|                    true|     2024|        12|\n",
      "|        1|2024-12-01 08:56:42|       2024|          12|         1|2024-12-01 09:49:24|        2024|           12|          1|           250|     Bronx|Westchester Villa...|      Boro Zone|            85|  Brooklyn|            Erasmus|      Boro Zone|          1|   Standard rate|           1|      Credit card|                 N|              1|          0.0|       57.5|  0.0|    1.5|       0.0|         0.0|                  1.0|                 0.0|       NULL|     NULL|              60.0|              52.7|                0.0|               0.0|             true|                 0.0| 1.0910815939278937|                   false|     2024|        12|\n",
      "|        1|2024-12-01 09:55:44|       2024|          12|         1|2024-12-01 10:06:38|        2024|           12|          1|           195|  Brooklyn|            Red Hook|      Boro Zone|            54|  Brooklyn|    Columbia Street|      Boro Zone|          1|   Standard rate|           3|        No charge|                 N|              1|          1.1|       10.7|  0.0|    1.5|       0.0|         0.0|                  1.0|                 0.0|       NULL|     NULL|              13.2|              10.9|0.10091743119266056| 6.055045871559633|            false|   9.727272727272727| 0.9816513761467889|                   false|     2024|        12|\n",
      "|        1|2024-12-01 10:27:25|       2024|          12|         1|2024-12-01 10:38:26|        2024|           12|          1|            55|  Brooklyn|        Coney Island|      Boro Zone|           123|  Brooklyn|          Homecrest|      Boro Zone|          1|   Standard rate|           1|      Credit card|                 N|              1|          0.0|       20.5|  0.0|    1.5|       0.0|         0.0|                  1.0|                 0.0|       NULL|     NULL|              23.0|11.016666666666667|                0.0|               0.0|             true|                 0.0| 1.8608169440242055|                   false|     2024|        12|\n",
      "|        1|2024-12-01 10:29:00|       2024|          12|         1|2024-12-01 10:45:19|        2024|           12|          1|            74| Manhattan|   East Harlem North|      Boro Zone|           142| Manhattan|Lincoln Square East|    Yellow Zone|          1|   Standard rate|           1|      Credit card|                 N|              1|          3.7|       19.1| 2.75|    1.5|      4.65|         0.0|                  1.0|                2.75|       NULL|     NULL|             31.75|16.316666666666666|0.22676200204290092|13.605720122574056|            false|   5.162162162162162|  1.170582226762002|                   false|     2024|        12|\n",
      "|        1|2024-12-01 10:53:38|       2024|          12|         1|2024-12-01 11:01:58|        2024|           12|          1|            65|  Brooklyn|Downtown Brooklyn...|      Boro Zone|           181|  Brooklyn|         Park Slope|      Boro Zone|          1|   Standard rate|           2|             Cash|                 N|              1|          1.3|       10.0|  0.0|    1.5|       0.0|         0.0|                  1.0|                 0.0|       NULL|     NULL|              12.5| 8.333333333333334|              0.156|              9.36|            false|   7.692307692307692|                1.2|                   false|     2024|        12|\n",
      "|        1|2024-12-01 11:00:10|       2024|          12|         1|2024-12-01 11:41:06|        2024|           12|          1|           195|  Brooklyn|            Red Hook|      Boro Zone|           164| Manhattan|      Midtown South|    Yellow Zone|          1|   Standard rate|           1|      Credit card|                 N|              5|         10.0|       47.1| 2.75|    1.5|       0.0|         0.0|                  1.0|                2.75|       NULL|     NULL|              55.1| 40.93333333333333|  0.244299674267101| 14.65798045602606|            false|                4.71| 1.1506514657980458|                   false|     2024|        12|\n",
      "|        1|2024-12-01 11:37:43|       2024|          12|         1|2024-12-01 11:59:13|        2024|           12|          1|            97|  Brooklyn|         Fort Greene|      Boro Zone|             4| Manhattan|      Alphabet City|    Yellow Zone|          1|   Standard rate|           1|      Credit card|                 N|              1|          5.5|       27.5| 2.75|    1.5|      6.35|         0.0|                  1.0|                2.75|       NULL|     NULL|             41.85|              21.5| 0.2558139534883721|15.348837209302326|            false|                 5.0| 1.2790697674418605|                   false|     2024|        12|\n",
      "|        1|2024-12-01 11:57:06|       2024|          12|         1|2024-12-01 12:06:57|        2024|           12|          1|            74| Manhattan|   East Harlem North|      Boro Zone|           263| Manhattan|     Yorkville West|    Yellow Zone|          1|   Standard rate|           1|      Credit card|                 N|              2|          2.1|       11.4| 2.75|    1.5|       0.0|         0.0|                  1.0|                2.75|       NULL|     NULL|              19.4|              9.85|0.21319796954314724|12.791878172588834|            false|   5.428571428571429| 1.1573604060913707|                   false|     2024|        12|\n",
      "|        1|2024-12-01 12:41:00|       2024|          12|         1|2024-12-01 13:00:56|        2024|           12|          1|            74| Manhattan|   East Harlem North|      Boro Zone|            20|     Bronx|            Belmont|      Boro Zone|          1|   Standard rate|           2|             Cash|                 N|              1|          8.5|       33.8|  0.0|    1.5|       0.0|         0.0|                  1.0|                 0.0|       NULL|     NULL|              36.3|19.933333333333334|0.42642140468227424|25.585284280936456|            false|  3.9764705882352938| 1.6956521739130432|                   false|     2024|        12|\n",
      "|        1|2024-12-01 12:56:48|       2024|          12|         1|2024-12-01 13:10:18|        2024|           12|          1|            97|  Brooklyn|         Fort Greene|      Boro Zone|            66|  Brooklyn| DUMBO/Vinegar Hill|      Boro Zone|          1|   Standard rate|           1|      Credit card|                 N|              3|          1.5|       13.5|  0.0|    1.5|       3.0|         0.0|                  1.0|                 0.0|       NULL|     NULL|              19.0|              13.5| 0.1111111111111111| 6.666666666666666|            false|                 9.0|                1.0|                   false|     2024|        12|\n",
      "|        1|2024-12-01 13:01:58|       2024|          12|         1|2024-12-01 13:09:30|        2024|           12|          1|            74| Manhattan|   East Harlem North|      Boro Zone|            75| Manhattan|  East Harlem South|      Boro Zone|          1|   Standard rate|           2|             Cash|                 N|              1|          1.3|        9.3|  0.0|    1.5|       0.0|         0.0|                  1.0|                 0.0|       NULL|     NULL|              11.8| 7.533333333333333|0.17256637168141595|10.353982300884956|            false|   7.153846153846154| 1.2345132743362832|                   false|     2024|        12|\n",
      "|        1|2024-12-01 13:27:10|       2024|          12|         1|2024-12-01 13:43:02|        2024|           12|          1|            41| Manhattan|      Central Harlem|      Boro Zone|           262| Manhattan|     Yorkville East|    Yellow Zone|          1|   Standard rate|           1|      Credit card|                 N|              1|          2.7|       16.3| 2.75|    1.5|       4.1|         0.0|                  1.0|                2.75|       NULL|     NULL|              28.4|15.866666666666667|0.17016806722689076|10.210084033613446|            false|   6.037037037037037|  1.027310924369748|                   false|     2024|        12|\n",
      "|        1|2024-12-01 13:34:36|       2024|          12|         1|2024-12-01 13:46:59|        2024|           12|          1|            74| Manhattan|   East Harlem North|      Boro Zone|           141| Manhattan|    Lenox Hill West|    Yellow Zone|          1|   Standard rate|           1|      Credit card|                 N|              3|          2.7|       14.9| 2.75|    1.5|      3.83|         0.0|                  1.0|                2.75|       NULL|     NULL|26.729999999999997|12.383333333333333|0.21803499327052492|13.082099596231496|            false|   5.518518518518518| 1.2032301480484522|                   false|     2024|        12|\n",
      "|        1|2024-12-01 13:40:51|       2024|          12|         1|2024-12-01 13:53:27|        2024|           12|          1|            97|  Brooklyn|         Fort Greene|      Boro Zone|            49|  Brooklyn|       Clinton Hill|      Boro Zone|          1|   Standard rate|           1|      Credit card|                 N|              1|          1.4|       12.1|  0.0|    1.5|       2.7|         0.0|                  1.0|                 0.0|       NULL|     NULL|              17.3|              12.6| 0.1111111111111111| 6.666666666666666|            false|   8.642857142857142| 0.9603174603174603|                   false|     2024|        12|\n",
      "|        1|2024-12-01 13:58:13|       2024|          12|         1|2024-12-01 14:05:53|        2024|           12|          1|            42| Manhattan|Central Harlem North|      Boro Zone|            41| Manhattan|     Central Harlem|      Boro Zone|          1|   Standard rate|           1|      Credit card|                 N|              1|          1.3|        8.6|  0.0|    1.5|       2.0|         0.0|                  1.0|                 0.0|       NULL|     NULL|              13.1| 7.666666666666667|0.16956521739130434| 10.17391304347826|            false|   6.615384615384615| 1.1217391304347826|                   false|     2024|        12|\n",
      "|        1|2024-12-01 14:02:25|       2024|          12|         1|2024-12-01 14:16:47|        2024|           12|          1|            65|  Brooklyn|Downtown Brooklyn...|      Boro Zone|           189|  Brooklyn|   Prospect Heights|      Boro Zone|          1|   Standard rate|           1|      Credit card|                 N|              2|          2.0|       14.9|  0.0|    1.5|      3.25|         0.0|                  1.0|                 0.0|       NULL|     NULL|             20.65|14.366666666666667|0.13921113689095127| 8.352668213457076|            false|                7.45|  1.037122969837587|                   false|     2024|        12|\n",
      "|        1|2024-12-01 14:15:41|       2024|          12|         1|2024-12-01 14:26:21|        2024|           12|          1|            82|    Queens|            Elmhurst|      Boro Zone|            95|    Queens|       Forest Hills|      Boro Zone|          1|   Standard rate|           2|             Cash|                 N|              2|          1.8|       10.7|  0.0|    1.5|       0.0|         0.0|                  1.0|                 0.0|       NULL|     NULL|              13.2|10.666666666666666|            0.16875|            10.125|            false|   5.944444444444444|           1.003125|                   false|     2024|        12|\n",
      "+---------+-------------------+-----------+------------+----------+-------------------+------------+-------------+-----------+--------------+----------+--------------------+---------------+--------------+----------+-------------------+---------------+-----------+----------------+------------+-----------------+------------------+---------------+-------------+-----------+-----+-------+----------+------------+---------------------+--------------------+-----------+---------+------------------+------------------+-------------------+------------------+-----------------+--------------------+-------------------+------------------------+---------+----------+\n",
      "only showing top 20 rows\n",
      "\n"
     ]
    }
   ],
   "source": [
    "df_yellow_intg.show()\n"
   ]
  },
  {
   "cell_type": "code",
   "execution_count": null,
   "metadata": {},
   "outputs": [],
   "source": []
  }
 ],
 "metadata": {
  "kernelspec": {
   "display_name": "Python 3",
   "language": "python",
   "name": "python3"
  },
  "language_info": {
   "codemirror_mode": {
    "name": "ipython",
    "version": 3
   },
   "file_extension": ".py",
   "mimetype": "text/x-python",
   "name": "python",
   "nbconvert_exporter": "python",
   "pygments_lexer": "ipython3",
   "version": "3.11.4"
  }
 },
 "nbformat": 4,
 "nbformat_minor": 2
}
