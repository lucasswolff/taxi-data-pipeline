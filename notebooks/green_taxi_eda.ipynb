{
 "cells": [
  {
   "cell_type": "code",
   "execution_count": 2,
   "metadata": {},
   "outputs": [],
   "source": [
    "import pyspark\n",
    "from pyspark.sql import SparkSession"
   ]
  },
  {
   "cell_type": "code",
   "execution_count": null,
   "metadata": {},
   "outputs": [],
   "source": [
    "# Create or get an existing Spark session\n",
    "spark = SparkSession.builder \\\n",
    "    .appName(\"EDA\") \\\n",
    "    .getOrCreate()"
   ]
  },
  {
   "cell_type": "markdown",
   "metadata": {},
   "source": [
    "# Extract Data"
   ]
  },
  {
   "cell_type": "code",
   "execution_count": 14,
   "metadata": {},
   "outputs": [
    {
     "name": "stdout",
     "output_type": "stream",
     "text": [
      "Number of rows: 660218\n",
      "+--------+--------------------+---------------------+------------------+----------+------------+------------+---------------+-------------+-----------+-----+-------+----------+------------+---------+---------------------+------------+------------+---------+--------------------+\n",
      "|VendorID|lpep_pickup_datetime|lpep_dropoff_datetime|store_and_fwd_flag|RatecodeID|PULocationID|DOLocationID|passenger_count|trip_distance|fare_amount|extra|mta_tax|tip_amount|tolls_amount|ehail_fee|improvement_surcharge|total_amount|payment_type|trip_type|congestion_surcharge|\n",
      "+--------+--------------------+---------------------+------------------+----------+------------+------------+---------------+-------------+-----------+-----+-------+----------+------------+---------+---------------------+------------+------------+---------+--------------------+\n",
      "|       2| 2024-05-01 00:07:08|  2024-05-01 00:15:03|                 N|         1|          65|          49|              1|         1.24|        9.3|  1.0|    0.5|       2.0|         0.0|     NULL|                  1.0|        13.8|           1|        1|                 0.0|\n",
      "|       2| 2024-05-01 00:30:48|  2024-05-01 00:35:49|                 N|         1|           7|         179|              1|         0.94|        7.2|  1.0|    0.5|      1.94|         0.0|     NULL|                  1.0|       11.64|           1|        1|                 0.0|\n",
      "|       2| 2024-05-01 00:34:13|  2024-05-01 00:38:07|                 N|         1|          74|          42|              1|         0.84|        6.5|  1.0|    0.5|       0.0|         0.0|     NULL|                  1.0|         9.0|           2|        1|                 0.0|\n",
      "|       2| 2024-05-01 00:58:01|  2024-05-01 01:14:41|                 N|         1|          75|         235|              1|         6.07|       25.4|  1.0|    0.5|       5.0|         0.0|     NULL|                  1.0|        32.9|           1|        1|                 0.0|\n",
      "|       2| 2024-05-01 00:11:45|  2024-05-01 00:20:38|                 N|         1|         256|          49|              2|         2.06|       12.1|  1.0|    0.5|      2.92|         0.0|     NULL|                  1.0|       17.52|           1|        1|                 0.0|\n",
      "|       1| 2024-05-01 00:29:06|  2024-05-01 00:36:03|                 N|         1|         210|         210|              1|          1.3|        9.3|  1.0|    1.5|       1.0|         0.0|     NULL|                  1.0|        12.8|           1|        1|                 0.0|\n",
      "|       2| 2024-05-01 00:06:23|  2024-05-01 00:18:18|                 N|         1|          66|           4|              5|         4.35|       19.8|  1.0|    0.5|       3.0|         0.0|     NULL|                  1.0|       28.05|           1|        1|                2.75|\n",
      "|       2| 2024-05-01 00:06:36|  2024-05-01 00:18:03|                 N|         1|          95|          95|              1|         2.02|       13.5|  1.0|    0.5|       0.0|         0.0|     NULL|                  1.0|        16.0|           2|        1|                 0.0|\n",
      "|       2| 2024-05-01 00:58:01|  2024-05-01 01:07:35|                 N|         1|          24|         143|              1|         2.35|       12.8|  1.0|    0.5|       3.0|         0.0|     NULL|                  1.0|       21.05|           1|        1|                2.75|\n",
      "|       2| 2024-05-01 00:54:12|  2024-05-01 00:58:51|                 N|         5|         210|         210|              1|          1.3|        8.0|  0.0|    0.0|       0.0|         0.0|     NULL|                  1.0|         9.0|           1|        2|                 0.0|\n",
      "|       2| 2024-05-01 00:38:09|  2024-05-01 00:45:10|                 N|         1|          43|         140|              1|         1.69|       10.0|  1.0|    0.5|       0.0|         0.0|     NULL|                  1.0|        15.0|           2|        1|                 2.5|\n",
      "|       2| 2024-05-01 00:21:21|  2024-05-01 00:39:26|                 N|         1|         181|         227|              1|         3.37|       20.5|  1.0|    0.5|       3.0|         0.0|     NULL|                  1.0|        26.0|           1|        1|                 0.0|\n",
      "|       2| 2024-05-01 00:03:24|  2024-05-01 00:06:23|                 N|         1|          93|          92|              2|          0.9|        6.5|  1.0|    0.5|       0.0|         0.0|     NULL|                  1.0|         9.0|           1|        1|                 0.0|\n",
      "|       2| 2024-05-01 00:32:43|  2024-05-01 00:40:43|                 N|         1|          74|         151|              4|         1.87|       10.7|  1.0|    0.5|      2.64|         0.0|     NULL|                  1.0|       15.84|           1|        1|                 0.0|\n",
      "|       2| 2024-05-01 00:03:09|  2024-05-01 00:04:40|                 N|         1|         129|         129|              5|         0.33|        4.4|  1.0|    0.5|       0.0|         0.0|     NULL|                  1.0|         6.9|           2|        1|                 0.0|\n",
      "|       2| 2024-05-01 00:33:26|  2024-05-01 00:42:38|                 N|         1|          74|          42|              1|         1.55|       11.4|  1.0|    0.5|      2.78|         0.0|     NULL|                  1.0|       16.68|           1|        1|                 0.0|\n",
      "|       2| 2024-05-01 00:25:03|  2024-05-01 00:33:56|                 N|         1|         129|         129|              1|         1.19|       10.0|  1.0|    0.5|       0.0|         0.0|     NULL|                  1.0|        12.5|           1|        1|                 0.0|\n",
      "|       2| 2024-05-01 00:05:02|  2024-05-01 00:23:51|                 N|         1|         134|         198|              1|         4.49|       23.3|  1.0|    0.5|       0.0|         0.0|     NULL|                  1.0|        25.8|           2|        1|                 0.0|\n",
      "|       2| 2024-05-01 00:17:29|  2024-05-01 00:17:36|                 N|         5|          95|          95|              1|          0.0|       11.0|  0.0|    0.0|       2.4|         0.0|     NULL|                  1.0|        14.4|           1|        2|                 0.0|\n",
      "|       2| 2024-05-01 00:39:26|  2024-05-01 00:50:54|                 N|         5|          42|         169|              1|          3.4|       15.0|  0.0|    0.0|       0.0|         0.0|     NULL|                  1.0|        16.0|           2|        2|                 0.0|\n",
      "+--------+--------------------+---------------------+------------------+----------+------------+------------+---------------+-------------+-----------+-----+-------+----------+------------+---------+---------------------+------------+------------+---------+--------------------+\n",
      "only showing top 20 rows\n",
      "\n"
     ]
    }
   ],
   "source": [
    "# Read all Parquet files in the folder\n",
    "df_green = spark.read.parquet(folder_path + 'green/green_tripdata_2024-*.parquet')\n",
    "\n",
    "number_rows = df_green.count()\n",
    "print('Number of rows: ' + str(number_rows))\n",
    "\n",
    "# Show the first few rows of the data\n",
    "df_green.show()"
   ]
  },
  {
   "cell_type": "markdown",
   "metadata": {},
   "source": [
    "# Green Taxi EDA for Data Cleaning"
   ]
  },
  {
   "cell_type": "code",
   "execution_count": null,
   "metadata": {},
   "outputs": [],
   "source": [
    "# remover duplicados (usar datetime, pickup location, destination location e total_amount)\n",
    "# remover numeros absurdos de trip_distance, total_amount usando algum metodo estatistico. Remover zeros, nulos e negativos\n",
    "# antes fazer analise desses numeros\n",
    "# validar se algumas das locations nao esta no mapping file\n",
    "# ver se VendorID, RatecodeID, store_and_fwd_flag, payment_type tem alguma coisa fora do que é listado no dict\n",
    "# timestamps fora do comum\n",
    "# viagens extremamente longas\n",
    "# passager_count nulo\n",
    "# total_amount bate com a soma das individual charges fare_amount + extra + mta_tax + tip_amount + tolls_amount + improvement_surcharge + congestion_surcharge + Airport_fee"
   ]
  },
  {
   "cell_type": "code",
   "execution_count": null,
   "metadata": {},
   "outputs": [],
   "source": []
  }
 ],
 "metadata": {
  "kernelspec": {
   "display_name": "Python 3",
   "language": "python",
   "name": "python3"
  },
  "language_info": {
   "codemirror_mode": {
    "name": "ipython",
    "version": 3
   },
   "file_extension": ".py",
   "mimetype": "text/x-python",
   "name": "python",
   "nbconvert_exporter": "python",
   "pygments_lexer": "ipython3",
   "version": "3.11.4"
  }
 },
 "nbformat": 4,
 "nbformat_minor": 2
}
