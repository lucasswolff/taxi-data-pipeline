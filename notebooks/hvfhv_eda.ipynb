{
 "cells": [
  {
   "cell_type": "code",
   "execution_count": 2,
   "metadata": {},
   "outputs": [],
   "source": [
    "import pyspark\n",
    "from pyspark.sql import SparkSession"
   ]
  },
  {
   "cell_type": "code",
   "execution_count": null,
   "metadata": {},
   "outputs": [],
   "source": [
    "# Create or get an existing Spark session\n",
    "spark = SparkSession.builder \\\n",
    "    .appName(\"EDA\") \\\n",
    "    .getOrCreate()"
   ]
  },
  {
   "cell_type": "markdown",
   "metadata": {},
   "source": [
    "# Extract Data"
   ]
  },
  {
   "cell_type": "code",
   "execution_count": 16,
   "metadata": {},
   "outputs": [
    {
     "name": "stdout",
     "output_type": "stream",
     "text": [
      "Number of rows: 239470448\n",
      "+-----------------+--------------------+--------------------+-------------------+-------------------+-------------------+-------------------+------------+------------+----------+---------+-------------------+-----+----+---------+--------------------+-----------+----+----------+-------------------+-----------------+------------------+----------------+--------------+\n",
      "|hvfhs_license_num|dispatching_base_num|originating_base_num|   request_datetime|  on_scene_datetime|    pickup_datetime|   dropoff_datetime|PULocationID|DOLocationID|trip_miles|trip_time|base_passenger_fare|tolls| bcf|sales_tax|congestion_surcharge|airport_fee|tips|driver_pay|shared_request_flag|shared_match_flag|access_a_ride_flag|wav_request_flag|wav_match_flag|\n",
      "+-----------------+--------------------+--------------------+-------------------+-------------------+-------------------+-------------------+------------+------------+----------+---------+-------------------+-----+----+---------+--------------------+-----------+----+----------+-------------------+-----------------+------------------+----------------+--------------+\n",
      "|           HV0003|              B03404|              B03404|2024-01-01 00:21:47|2024-01-01 00:25:06|2024-01-01 00:28:08|2024-01-01 01:05:39|         161|         158|      2.83|     2251|              45.61|  0.0|1.25|     4.05|                2.75|        0.0| 0.0|     40.18|                  N|                N|                 N|               N|             N|\n",
      "|           HV0003|              B03404|              B03404|2024-01-01 00:10:56|2024-01-01 00:11:08|2024-01-01 00:12:53|2024-01-01 00:20:05|         137|          79|      1.57|      432|              10.05|  0.0|0.28|     0.89|                2.75|        0.0| 0.0|      6.12|                  N|                N|                 N|               N|             N|\n",
      "|           HV0003|              B03404|              B03404|2024-01-01 00:20:04|2024-01-01 00:21:51|2024-01-01 00:23:05|2024-01-01 00:35:16|          79|         186|      1.98|      731|              18.07|  0.0| 0.5|      1.6|                2.75|        0.0| 0.0|      9.47|                  N|                N|                 N|               N|             N|\n",
      "|           HV0003|              B03404|              B03404|2024-01-01 00:35:46|2024-01-01 00:39:59|2024-01-01 00:41:04|2024-01-01 00:56:34|         234|         148|      1.99|      930|              17.17|  0.0|0.47|     1.52|                2.75|        0.0| 0.0|     11.35|                  N|                N|                 N|               N|             N|\n",
      "|           HV0003|              B03404|              B03404|2024-01-01 00:48:19|2024-01-01 00:56:23|2024-01-01 00:57:21|2024-01-01 01:10:02|         148|          97|      2.65|      761|              38.67|  0.0|1.06|     3.43|                2.75|        0.0| 0.0|     28.63|                  N|                N|                 N|               N|             N|\n",
      "|           HV0003|              B03404|              B03404|2024-01-01 00:03:47|2024-01-01 00:05:53|2024-01-01 00:06:15|2024-01-01 00:27:53|         255|          95|      7.02|     1298|              32.16|  0.0|0.88|     2.85|                 0.0|        0.0| 0.0|     24.35|                  N|                N|                 N|               N|             Y|\n",
      "|           HV0003|              B03404|              B03404|2024-01-01 00:22:51|2024-01-01 00:29:17|2024-01-01 00:29:47|2024-01-01 00:50:08|          95|         212|     11.33|     1221|              45.83| 6.94|1.45|     4.68|                 0.0|        0.0| 0.0|     30.98|                  N|                N|                 N|               N|             Y|\n",
      "|           HV0003|              B03404|              B03404|2024-01-01 00:45:34|2024-01-01 00:57:29|2024-01-01 00:57:50|2024-01-01 01:11:27|         213|          47|      3.43|      817|              23.23|  0.0|0.64|     2.06|                 0.0|        0.0| 0.0|     20.73|                  N|                N|                 N|               N|             Y|\n",
      "|           HV0003|              B03404|              B03404|2024-01-01 00:11:51|2024-01-01 00:15:46|2024-01-01 00:16:00|2024-01-01 00:28:13|         209|         114|      1.54|      733|              15.42|  0.0|0.42|     1.37|                2.75|        0.0| 0.0|      10.4|                  N|                N|                 N|               N|             Y|\n",
      "|           HV0003|              B03404|              B03404|2024-01-01 00:26:48|2024-01-01 00:33:02|2024-01-01 00:33:15|2024-01-01 00:46:39|         113|         209|      1.72|      804|              13.65|  0.0|0.38|     1.21|                2.75|        0.0| 0.0|     11.38|                  N|                N|                 N|               N|             Y|\n",
      "|           HV0005|              B03406|                NULL|2024-01-01 00:23:38|               NULL|2024-01-01 00:27:59|2024-01-01 00:50:11|          88|         255|     4.272|     1332|              32.17|  0.0|0.88|     2.86|                2.75|        0.0| 0.0|     27.98|                  N|                N|                 N|               N|             N|\n",
      "|           HV0005|              B03406|                NULL|2024-01-01 00:42:06|               NULL|2024-01-01 00:57:09|2024-01-01 01:14:26|         255|          79|     3.281|     1037|              42.09|  0.0|1.16|     3.74|                2.75|        0.0| 0.0|     26.09|                  N|                N|                 N|               N|             N|\n",
      "|           HV0003|              B03404|              B03404|2024-01-01 00:29:43|2024-01-01 00:37:36|2024-01-01 00:37:50|2024-01-01 00:58:44|         195|         112|      7.37|     1254|              37.68|  0.0|1.04|     3.34|                 0.0|        0.0| 0.0|     50.54|                  N|                N|                 N|               N|             N|\n",
      "|           HV0005|              B03406|                NULL|2024-01-01 00:08:37|               NULL|2024-01-01 00:11:17|2024-01-01 00:27:44|         229|          87|     5.477|      987|              22.78|  0.0|0.63|     2.02|                2.75|        0.0| 0.0|      19.1|                  N|                N|                 N|               N|             N|\n",
      "|           HV0005|              B03406|                NULL|2024-01-01 00:24:53|               NULL|2024-01-01 00:32:31|2024-01-01 00:50:13|         209|         249|      2.93|     1062|              14.53|  0.0| 0.4|     1.29|                2.75|        0.0| 0.0|     13.96|                  N|                N|                 N|               N|             N|\n",
      "|           HV0005|              B03406|                NULL|2024-01-01 00:42:04|               NULL|2024-01-01 00:53:16|2024-01-01 01:41:05|         249|         188|     7.643|     2869|               35.1| 0.95|0.99|      3.2|                2.75|        0.0| 0.0|     41.34|                  N|                N|                 N|               N|             N|\n",
      "|           HV0005|              B03406|                NULL|2023-12-31 23:54:45|               NULL|2024-01-01 00:00:59|2024-01-01 00:18:03|         188|          39|     3.327|     1024|              17.01|  0.0|0.47|     1.51|                 0.0|        0.0|10.0|     14.12|                  N|                N|                 N|               N|             N|\n",
      "|           HV0005|              B03406|                NULL|2024-01-01 00:18:21|               NULL|2024-01-01 00:29:00|2024-01-01 00:45:21|          72|          76|     2.763|      981|              14.33|  0.0|0.39|     1.27|                 0.0|        0.0| 0.0|     12.97|                  N|                N|                 N|               N|             N|\n",
      "|           HV0005|              B03406|                NULL|2024-01-01 00:39:49|               NULL|2024-01-01 00:53:41|2024-01-01 01:04:07|          76|          77|     1.215|      626|               18.8|  0.0|0.52|     1.67|                 0.0|        0.0| 0.0|     11.05|                  N|                N|                 N|               N|             N|\n",
      "|           HV0003|              B03404|              B03404|2024-01-01 00:06:36|2024-01-01 00:08:33|2024-01-01 00:09:53|2024-01-01 00:35:40|          42|         259|      9.69|     1547|               34.0|  0.0|0.94|     3.02|                 0.0|        0.0| 0.0|     27.35|                  N|                N|                 N|               N|             N|\n",
      "+-----------------+--------------------+--------------------+-------------------+-------------------+-------------------+-------------------+------------+------------+----------+---------+-------------------+-----+----+---------+--------------------+-----------+----+----------+-------------------+-----------------+------------------+----------------+--------------+\n",
      "only showing top 20 rows\n",
      "\n"
     ]
    }
   ],
   "source": [
    "# Read all Parquet files in the folder\n",
    "df_fhvhv = spark.read.parquet(folder_path + 'fhvhv/fhvhv_tripdata_2024-*.parquet')\n",
    "\n",
    "number_rows = df_fhvhv.count()\n",
    "print('Number of rows: ' + str(number_rows))\n",
    "\n",
    "# Show the first few rows of the data\n",
    "df_fhvhv.show()"
   ]
  },
  {
   "cell_type": "markdown",
   "metadata": {},
   "source": [
    "# HVFHV EDA for Data Cleaning"
   ]
  },
  {
   "cell_type": "code",
   "execution_count": null,
   "metadata": {},
   "outputs": [],
   "source": [
    "# remover duplicados (usar datetime, pickup location, destination location e total_amount)\n",
    "# remover numeros absurdos de trip_distance, total_amount usando algum metodo estatistico. Remover zeros, nulos e negativos\n",
    "# antes fazer analise desses numeros\n",
    "# validar se algumas das locations nao esta no mapping file\n",
    "# ver se VendorID, RatecodeID, store_and_fwd_flag, payment_type tem alguma coisa fora do que é listado no dict\n",
    "# timestamps fora do comum\n",
    "# viagens extremamente longas\n",
    "# passager_count nulo\n",
    "# total_amount bate com a soma das individual charges fare_amount + extra + mta_tax + tip_amount + tolls_amount + improvement_surcharge + congestion_surcharge + Airport_fee"
   ]
  },
  {
   "cell_type": "code",
   "execution_count": null,
   "metadata": {},
   "outputs": [],
   "source": []
  }
 ],
 "metadata": {
  "kernelspec": {
   "display_name": "Python 3",
   "language": "python",
   "name": "python3"
  },
  "language_info": {
   "codemirror_mode": {
    "name": "ipython",
    "version": 3
   },
   "file_extension": ".py",
   "mimetype": "text/x-python",
   "name": "python",
   "nbconvert_exporter": "python",
   "pygments_lexer": "ipython3",
   "version": "3.11.4"
  }
 },
 "nbformat": 4,
 "nbformat_minor": 2
}
