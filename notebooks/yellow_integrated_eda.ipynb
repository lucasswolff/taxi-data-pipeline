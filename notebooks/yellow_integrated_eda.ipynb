{
 "cells": [
  {
   "cell_type": "code",
   "execution_count": 1,
   "metadata": {},
   "outputs": [],
   "source": [
    "from pyspark.sql import SparkSession, Window\n",
    "from pyspark.sql.functions import col, when, year, month, day, expr, to_timestamp, concat_ws, lpad, coalesce\n",
    "from pyspark.sql.functions import input_file_name, regexp_extract, unix_timestamp, row_number, lit\n",
    "from pyspark.sql.types import StructType, StructField, StringType, IntegerType\n",
    "from pyspark.sql import functions as F "
   ]
  },
  {
   "cell_type": "code",
   "execution_count": 2,
   "metadata": {},
   "outputs": [],
   "source": [
    "spark = SparkSession.builder \\\n",
    "    .appName(\"EDA\") \\\n",
    "    .getOrCreate()"
   ]
  },
  {
   "cell_type": "code",
   "execution_count": 3,
   "metadata": {},
   "outputs": [
    {
     "name": "stdout",
     "output_type": "stream",
     "text": [
      "Number of rows: 3528451\n"
     ]
    }
   ],
   "source": [
    "# Path to the folder containing the Parquet files\n",
    "path = \"../sample_data/curated/yellow\"\n",
    "\n",
    "# Read all Parquet files in the folder\n",
    "df_yellow_intg = spark.read.parquet(path).where(\"file_year = 2024 and file_month = 12\")\n",
    "\n",
    "number_rows = df_yellow_intg.count()\n",
    "print('Number of rows: ' + str(number_rows))"
   ]
  },
  {
   "cell_type": "code",
   "execution_count": 4,
   "metadata": {},
   "outputs": [
    {
     "name": "stdout",
     "output_type": "stream",
     "text": [
      "+---------+-------------------+-----------+------------+----------+-------------------+------------+-------------+-----------+--------------+----------+--------------------+---------------+--------------+----------+--------------------+---------------+-----------+----------------+------------+-----------------+------------------+---------------+-------------+-----------+-----+-------+----------+------------+---------------------+--------------------+-----------+---------+------------------+------------------+-------------------+------------------+-----------------+--------------------+--------------------+------------------------+---------+----------+\n",
      "|vendor_id|    pickup_datetime|pickup_year|pickup_month|pickup_day|   dropoff_datetime|dropoff_year|dropoff_month|dropoff_day|pu_location_id|pu_borough|             pu_zone|pu_service_zone|do_location_id|do_borough|             do_zone|do_service_zone|ratecode_id|   ratecode_desc|payment_type|payment_type_desc|store_and_fwd_flag|passenger_count|trip_distance|fare_amount|extra|mta_tax|tip_amount|tolls_amount|improvement_surcharge|congestion_surcharge|airport_fee|ehail_fee|      total_amount| trip_duration_min|   miles_per_minute|    miles_per_hour|trip_outlier_flag|fare_amount_per_mile| fare_amount_per_min|fare_amount_outlier_flag|file_year|file_month|\n",
      "+---------+-------------------+-----------+------------+----------+-------------------+------------+-------------+-----------+--------------+----------+--------------------+---------------+--------------+----------+--------------------+---------------+-----------+----------------+------------+-----------------+------------------+---------------+-------------+-----------+-----+-------+----------+------------+---------------------+--------------------+-----------+---------+------------------+------------------+-------------------+------------------+-----------------+--------------------+--------------------+------------------------+---------+----------+\n",
      "|        1|2024-12-01 00:00:46|       2024|          12|         1|2024-12-01 00:17:32|        2024|           12|          1|           263| Manhattan|      Yorkville West|    Yellow Zone|           164| Manhattan|       Midtown South|    Yellow Zone|          1|   Standard rate|           1|      Credit card|                 N|              4|          3.1|       18.4|  3.5|    0.5|       0.0|         0.0|                  1.0|                 2.5|        0.0|     NULL|              25.9|16.766666666666666|0.18489065606361832|  11.0934393638171|            false|   5.935483870967741|  1.0974155069582505|                   false|     2024|        12|\n",
      "|        6|2024-12-01 01:12:26|       2024|          12|         1|2024-12-01 02:12:46|        2024|           12|          1|            97|  Brooklyn|         Fort Greene|      Boro Zone|           117|    Queens|     Hammels/Arverne|      Boro Zone|         99|         Unknown|           0|   Flex Fare trip|                 N|              1|        15.72|        2.9|  0.0|    0.5|       0.0|         0.0|                  0.3|                NULL|       NULL|     NULL|3.6999999999999997|60.333333333333336| 0.2605524861878453| 15.63314917127072|            false| 0.18447837150127225| 0.04806629834254143|                   false|     2024|        12|\n",
      "|        1|2024-12-01 00:01:45|       2024|          12|         1|2024-12-01 00:13:09|        2024|           12|          1|           231| Manhattan|TriBeCa/Civic Center|    Yellow Zone|            79| Manhattan|        East Village|    Yellow Zone|         99|         Unknown|           0|   Flex Fare trip|                 N|              1|          1.8|      14.97|  0.0|    0.5|       0.0|         0.0|                  1.0|                NULL|       NULL|     NULL|             16.47|              11.4|0.15789473684210525| 9.473684210526315|            false|   8.316666666666666|   1.313157894736842|                   false|     2024|        12|\n",
      "|        6|2024-12-01 10:12:13|       2024|          12|         1|2024-12-01 10:12:48|        2024|           12|          1|            76|  Brooklyn|       East New York|      Boro Zone|            17|  Brooklyn|             Bedford|      Boro Zone|         99|         Unknown|           0|   Flex Fare trip|                 N|              1|         4.38|        5.8|  0.0|    0.5|       0.0|         0.0|                  0.3|                NULL|       NULL|     NULL|               6.6|0.5833333333333334|  7.508571428571428| 450.5142857142857|             true|  1.3242009132420092|   9.942857142857141|                   false|     2024|        12|\n",
      "|        1|2024-12-01 00:01:47|       2024|          12|         1|2024-12-01 00:04:52|        2024|           12|          1|           162| Manhattan|        Midtown East|    Yellow Zone|           162| Manhattan|        Midtown East|    Yellow Zone|          1|   Standard rate|           1|      Credit card|                 N|              2|          0.4|        5.1|  3.5|    0.5|       0.0|         0.0|                  1.0|                 2.5|        0.0|     NULL|              12.6|3.0833333333333335|0.12972972972972974| 7.783783783783784|            false|  12.749999999999998|  1.6540540540540538|                   false|     2024|        12|\n",
      "|        6|2024-12-02 21:12:30|       2024|          12|         2|2024-12-02 22:12:12|        2024|           12|          2|           230| Manhattan|Times Sq/Theatre ...|    Yellow Zone|            82|    Queens|            Elmhurst|      Boro Zone|         99|         Unknown|           0|   Flex Fare trip|                 N|              1|         7.26|       1.45|  0.0|    0.5|       0.0|         0.0|                  0.3|                NULL|       NULL|     NULL|              2.25|              59.7|0.12160804020100502| 7.296482412060302|            false| 0.19972451790633608|0.024288107202680063|                   false|     2024|        12|\n",
      "|        1|2024-12-01 00:02:03|       2024|          12|         1|2024-12-01 00:22:28|        2024|           12|          1|           186| Manhattan|Penn Station/Madi...|    Yellow Zone|            79| Manhattan|        East Village|    Yellow Zone|          1|   Standard rate|           1|      Credit card|                 N|              1|          2.4|       17.0|  3.5|    0.5|       3.0|         0.0|                  1.0|                 2.5|        0.0|     NULL|              27.5|20.416666666666668|0.11755102040816326| 7.053061224489795|            false|   7.083333333333334|  0.8326530612244898|                   false|     2024|        12|\n",
      "|        6|2024-12-03 11:12:55|       2024|          12|         3|2024-12-03 11:12:55|        2024|           12|          3|            21|  Brooklyn|    Bensonhurst East|      Boro Zone|            29|  Brooklyn|      Brighton Beach|      Boro Zone|         99|         Unknown|           0|   Flex Fare trip|                 N|              1|         2.24|        2.9|  0.0|    0.5|       0.0|         0.0|                  0.3|                NULL|       NULL|     NULL|3.6999999999999997|               0.0|                0.0|               0.0|             true|   1.294642857142857|                 0.0|                    true|     2024|        12|\n",
      "|        1|2024-12-01 00:02:31|       2024|          12|         1|2024-12-01 00:25:25|        2024|           12|          1|            48| Manhattan|        Clinton East|    Yellow Zone|           262| Manhattan|      Yorkville East|    Yellow Zone|          1|   Standard rate|           1|      Credit card|                 N|              1|          3.5|       20.5|  3.5|    0.5|       5.1|         0.0|                  1.0|                 2.5|        0.0|     NULL|              33.1|              22.9|0.15283842794759828| 9.170305676855897|            false|   5.857142857142857|  0.8951965065502184|                   false|     2024|        12|\n",
      "|        6|2024-12-03 12:12:28|       2024|          12|         3|2024-12-03 13:12:11|        2024|           12|          3|            76|  Brooklyn|       East New York|      Boro Zone|           117|    Queens|     Hammels/Arverne|      Boro Zone|         99|         Unknown|           0|   Flex Fare trip|                 N|              1|        10.84|        2.9|  0.0|    0.5|       0.0|         2.6|                  0.3|                NULL|       NULL|     NULL|               6.3| 59.71666666666667|0.18152386268490092|10.891431761094056|            false| 0.26752767527675275| 0.04856265699134803|                   false|     2024|        12|\n",
      "|        1|2024-12-01 00:02:33|       2024|          12|         1|2024-12-01 00:11:01|        2024|           12|          1|            90| Manhattan|            Flatiron|    Yellow Zone|           125| Manhattan|           Hudson Sq|    Yellow Zone|          1|   Standard rate|           2|             Cash|                 N|              1|          1.2|        9.3|  3.5|    0.5|       0.0|         0.0|                  1.0|                 2.5|        0.0|     NULL|              16.8| 8.466666666666667|0.14173228346456693| 8.503937007874015|            false|   7.750000000000001|  1.0984251968503937|                   false|     2024|        12|\n",
      "|        6|2024-12-04 07:12:12|       2024|          12|         4|2024-12-04 07:12:12|        2024|           12|          4|           116| Manhattan|    Hamilton Heights|      Boro Zone|           125| Manhattan|           Hudson Sq|    Yellow Zone|         99|         Unknown|           0|   Flex Fare trip|                 N|              1|         7.97|        2.9|  0.0|    0.5|       0.0|         0.0|                  0.3|                NULL|       NULL|     NULL|3.6999999999999997|               0.0|                0.0|               0.0|             true| 0.36386449184441655|                 0.0|                    true|     2024|        12|\n",
      "|        1|2024-12-01 00:02:56|       2024|          12|         1|2024-12-01 00:22:20|        2024|           12|          1|           236| Manhattan|Upper East Side N...|    Yellow Zone|            68| Manhattan|        East Chelsea|    Yellow Zone|         99|         Unknown|           0|   Flex Fare trip|                 N|              1|          4.1|      22.47|  0.0|    0.5|       0.0|         0.0|                  1.0|                NULL|       NULL|     NULL|             23.97|              19.4|  0.211340206185567| 12.68041237113402|            false|   5.480487804878049|  1.1582474226804125|                   false|     2024|        12|\n",
      "|        6|2024-12-09 10:12:50|       2024|          12|         9|2024-12-09 10:12:50|        2024|           12|          9|           213|     Bronx|Soundview/Castle ...|      Boro Zone|            41| Manhattan|      Central Harlem|      Boro Zone|         99|         Unknown|           0|   Flex Fare trip|                 N|              1|          5.6|        2.9|  0.0|    0.5|       0.0|         0.0|                  0.3|                NULL|       NULL|     NULL|3.6999999999999997|               0.0|                0.0|               0.0|             true|  0.5178571428571429|                 0.0|                    true|     2024|        12|\n",
      "|        1|2024-12-01 00:03:37|       2024|          12|         1|2024-12-01 00:25:42|        2024|           12|          1|           142| Manhattan| Lincoln Square East|    Yellow Zone|            79| Manhattan|        East Village|    Yellow Zone|          1|   Standard rate|           1|      Credit card|                 N|              1|          6.6|       31.0|  3.5|    0.5|      6.48|         0.0|                  1.0|                 2.5|        0.0|     NULL|44.980000000000004|22.083333333333332| 0.2988679245283019|17.932075471698113|            false|   4.696969696969697|  1.4037735849056605|                   false|     2024|        12|\n",
      "|        6|2024-12-10 06:12:01|       2024|          12|        10|2024-12-10 07:12:41|        2024|           12|         10|           238| Manhattan|Upper West Side N...|    Yellow Zone|            88| Manhattan|Financial Distric...|    Yellow Zone|         99|         Unknown|           0|   Flex Fare trip|                 N|              1|         9.09|        0.0|  0.0|    0.5|       0.0|         0.0|                  0.3|                NULL|       NULL|     NULL|               0.8|60.666666666666664|0.14983516483516485|  8.99010989010989|            false|                 0.0|                 0.0|                    true|     2024|        12|\n",
      "|        1|2024-12-01 00:03:38|       2024|          12|         1|2024-12-01 00:12:04|        2024|           12|          1|           249| Manhattan|        West Village|    Yellow Zone|            48| Manhattan|        Clinton East|    Yellow Zone|          1|   Standard rate|           1|      Credit card|                 N|              2|          1.7|       10.7|  3.5|    0.5|       0.0|         0.0|                  1.0|                 2.5|        0.0|     NULL|              18.2| 8.433333333333334| 0.2015810276679842| 12.09486166007905|            false|   6.294117647058823|   1.268774703557312|                   false|     2024|        12|\n",
      "|        6|2024-12-11 10:12:43|       2024|          12|        11|2024-12-11 11:12:02|        2024|           12|         11|            67|  Brooklyn|       Dyker Heights|      Boro Zone|            11|  Brooklyn|          Bath Beach|      Boro Zone|         99|         Unknown|           0|   Flex Fare trip|                 N|              1|         2.42|        2.9|  0.0|    0.5|       0.0|         0.0|                  0.3|                NULL|       NULL|     NULL|3.6999999999999997| 59.31666666666667|0.04079797695982017|  2.44787861758921|            false|  1.1983471074380165| 0.04889013767912335|                   false|     2024|        12|\n",
      "|        1|2024-12-01 00:03:56|       2024|          12|         1|2024-12-01 00:04:14|        2024|           12|          1|           249| Manhattan|        West Village|    Yellow Zone|           249| Manhattan|        West Village|    Yellow Zone|          5| Negotiated fare|           1|      Credit card|                 N|              2|          0.0|       84.0|  0.0|    0.0|      15.0|         0.0|                  1.0|                 0.0|        0.0|     NULL|             100.0|               0.3|                0.0|               0.0|             true|                 0.0|               280.0|                    true|     2024|        12|\n",
      "|        6|2024-12-11 15:12:40|       2024|          12|        11|2024-12-11 17:12:28|        2024|           12|         11|            48| Manhattan|        Clinton East|    Yellow Zone|            72|  Brooklyn|East Flatbush/Rem...|      Boro Zone|         99|         Unknown|           0|   Flex Fare trip|                 N|              1|        11.98|       4.35|  0.0|    0.5|       0.0|         0.0|                  0.3|                NULL|       NULL|     NULL|5.1499999999999995|             119.8|                0.1|               6.0|            false|  0.3631051752921535| 0.03631051752921536|                   false|     2024|        12|\n",
      "+---------+-------------------+-----------+------------+----------+-------------------+------------+-------------+-----------+--------------+----------+--------------------+---------------+--------------+----------+--------------------+---------------+-----------+----------------+------------+-----------------+------------------+---------------+-------------+-----------+-----+-------+----------+------------+---------------------+--------------------+-----------+---------+------------------+------------------+-------------------+------------------+-----------------+--------------------+--------------------+------------------------+---------+----------+\n",
      "only showing top 20 rows\n",
      "\n"
     ]
    }
   ],
   "source": [
    "df_yellow_intg.show()"
   ]
  },
  {
   "cell_type": "code",
   "execution_count": null,
   "metadata": {},
   "outputs": [],
   "source": []
  },
  {
   "cell_type": "code",
   "execution_count": null,
   "metadata": {},
   "outputs": [],
   "source": []
  }
 ],
 "metadata": {
  "kernelspec": {
   "display_name": "Python 3",
   "language": "python",
   "name": "python3"
  },
  "language_info": {
   "codemirror_mode": {
    "name": "ipython",
    "version": 3
   },
   "file_extension": ".py",
   "mimetype": "text/x-python",
   "name": "python",
   "nbconvert_exporter": "python",
   "pygments_lexer": "ipython3",
   "version": "3.11.4"
  }
 },
 "nbformat": 4,
 "nbformat_minor": 2
}
